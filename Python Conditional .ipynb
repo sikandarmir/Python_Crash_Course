{
 "cells": [
  {
   "cell_type": "markdown",
   "metadata": {},
   "source": [
    "<b>What are Conditional Statements in Python?</b><br>\n",
    "The boolean expression in a conditional statement that determines which branch is executed. conditional statement. A statement that controls the flow of execution depending on some condition. In Python the keywords if , elif , and else are used for conditional statements"
   ]
  },
  {
   "cell_type": "markdown",
   "metadata": {},
   "source": [
    "<b>What is Python If Statement?\n",
    "</b><br>Python if Statement is used for decision-making operations. It contains a body of code which runs only when the condition given in the if statement is true. If the condition is false, then the optional else statement runs which contains some code for the else condition"
   ]
  },
  {
   "cell_type": "markdown",
   "metadata": {},
   "source": [
    "### If statement:\n",
    "An \"if statement\" is written by using the if keyword."
   ]
  },
  {
   "cell_type": "code",
   "execution_count": 1,
   "metadata": {},
   "outputs": [
    {
     "name": "stdout",
     "output_type": "stream",
     "text": [
      "a is greater than b\n"
     ]
    }
   ],
   "source": [
    "# If statement:\n",
    "a=300\n",
    "b=200\n",
    "if a>b:\n",
    "    print(\"a is greater than b\")\n",
    "    "
   ]
  },
  {
   "cell_type": "code",
   "execution_count": 2,
   "metadata": {},
   "outputs": [
    {
     "name": "stdout",
     "output_type": "stream",
     "text": [
      "b is greater than a\n"
     ]
    }
   ],
   "source": [
    "a=100\n",
    "b=200\n",
    "if a<b:\n",
    "    print(\"b is greater than a\")\n",
    "    "
   ]
  },
  {
   "cell_type": "markdown",
   "metadata": {},
   "source": [
    "### Elif\n",
    "The elif keyword is pythons way of saying \"if the previous conditions were not true, then try this condition\"."
   ]
  },
  {
   "cell_type": "code",
   "execution_count": 3,
   "metadata": {},
   "outputs": [
    {
     "name": "stdout",
     "output_type": "stream",
     "text": [
      "Enter your Marks: 10\n",
      "Fail\n"
     ]
    }
   ],
   "source": [
    "x=int(input('Enter your Marks: '))\n",
    "if x <=33:\n",
    "    print('Fail')\n",
    "elif x<=70:\n",
    "    print('Average ')\n",
    "elif x<=100:\n",
    "    print('Good')"
   ]
  },
  {
   "cell_type": "markdown",
   "metadata": {},
   "source": [
    "### Else\n",
    "The else keyword catches anything which isn't caught by the preceding conditions."
   ]
  },
  {
   "cell_type": "code",
   "execution_count": 4,
   "metadata": {},
   "outputs": [
    {
     "name": "stdout",
     "output_type": "stream",
     "text": [
      "Enter your Marks: 101\n",
      "Please Enter the marks b/w 1 to 100\n"
     ]
    }
   ],
   "source": [
    "x=int(input('Enter your Marks: '))\n",
    "if x <=33:\n",
    "    print('Fail')\n",
    "elif x<=70:\n",
    "    print('Average ')\n",
    "elif x<=100:\n",
    "    print('Good')\n",
    "else:\n",
    "    print('Please Enter the marks b/w 1 to 100')"
   ]
  },
  {
   "cell_type": "markdown",
   "metadata": {},
   "source": [
    "### And\n",
    "The and keyword is a logical operator, and is used to combine conditional statements:"
   ]
  },
  {
   "cell_type": "code",
   "execution_count": 5,
   "metadata": {},
   "outputs": [
    {
     "name": "stdout",
     "output_type": "stream",
     "text": [
      "Enter your Paper Marks50\n",
      "Enter your Project MArks90\n",
      "Your are passed the course\n"
     ]
    }
   ],
   "source": [
    "paper_Marks=int(input(\"Enter your Paper Marks: \"))\n",
    "project_Marks=int(input(\"Enter your Project MArks: \"))\n",
    "\n",
    "if( (paper_Marks>=33) and (project_Marks >=75) ):\n",
    "    print(\"Your are passed the course\")\n",
    "else:\n",
    "    print(\"You are fail\")\n",
    "    "
   ]
  },
  {
   "cell_type": "markdown",
   "metadata": {},
   "source": [
    "### Or\n",
    "The or keyword is a logical operator, and is used to combine conditional statements:"
   ]
  },
  {
   "cell_type": "code",
   "execution_count": 31,
   "metadata": {},
   "outputs": [
    {
     "name": "stdout",
     "output_type": "stream",
     "text": [
      "Enter your Paper Marks: 10\n",
      "Enter your Sessional marks: 50\n",
      "You are fail\n"
     ]
    }
   ],
   "source": [
    "paper_Marks=int(input(\"Enter your Paper Marks: \"))\n",
    "Sessional_Marks=int(input(\"Enter your Sessional marks: \"))\n",
    "\n",
    "if( (paper_Marks>=33) or (Sessional_Marks >=75) ):\n",
    "    print(\"Your are passed the course\")\n",
    "else:\n",
    "    print(\"You are fail\")"
   ]
  },
  {
   "cell_type": "markdown",
   "metadata": {},
   "source": [
    "### Nested If\n",
    "You can have if statements inside if statements, this is called nested if statements"
   ]
  },
  {
   "cell_type": "code",
   "execution_count": 7,
   "metadata": {},
   "outputs": [
    {
     "name": "stdout",
     "output_type": "stream",
     "text": [
      "Above ten,\n",
      "and also above 20!\n"
     ]
    }
   ],
   "source": [
    "x = 41\n",
    "\n",
    "if x > 10:\n",
    "  print(\"Above ten,\")\n",
    "  if x > 20:\n",
    "    print(\"and also above 20!\")\n",
    "  else:\n",
    "    print(\"but not above 20.\")"
   ]
  },
  {
   "cell_type": "code",
   "execution_count": 35,
   "metadata": {},
   "outputs": [
    {
     "name": "stdout",
     "output_type": "stream",
     "text": [
      "Please Enter your Pin code1785\n",
      "Enter amount 500\n",
      "Now your new balance is 4500\n"
     ]
    }
   ],
   "source": [
    "pin=1785\n",
    "total_amount=5000\n",
    "pin_Code=int(input(\"Please Enter your Pin code\"))\n",
    "\n",
    "if pin==pin_Code:\n",
    "    amount=int(input(\"Enter amount \"))\n",
    "    if(amount<total_amount):\n",
    "        print(\"Now your new balance is\",total_amount-amount)\n",
    "    else:\n",
    "        print(\"You have insufficient amount\")\n",
    "else:\n",
    "    print(\"You enter the wrong Pin code\")\n",
    "    "
   ]
  },
  {
   "cell_type": "markdown",
   "metadata": {},
   "source": [
    "### Python ternary operators\n",
    "The Python ternary operator is a concise and simple way of implementing if-else statements. It first evaluates the given condition, then returns a specificvalue depending on whether that condition turns out to be True or False."
   ]
  },
  {
   "cell_type": "code",
   "execution_count": 36,
   "metadata": {},
   "outputs": [
    {
     "name": "stdout",
     "output_type": "stream",
     "text": [
      "40\n"
     ]
    }
   ],
   "source": [
    "x, y  = 20, 40\n",
    "        \n",
    "max = x if x > y else y\n",
    "        \n",
    "print(max )"
   ]
  },
  {
   "cell_type": "code",
   "execution_count": 3,
   "metadata": {
    "scrolled": true
   },
   "outputs": [
    {
     "name": "stdout",
     "output_type": "stream",
     "text": [
      "Enter your age: 21\n",
      "Are you have a driving license? \n",
      " Then enter Yes otherwise enter No : Yes\n",
      "Sorry, you can’t drive yet!\n"
     ]
    }
   ],
   "source": [
    "# Nested Ternary operator\n",
    "age=int(input(\"Enter your age: \"))\n",
    "driving_license=str(input('Are you have a driving license? \\n Then enter Yes otherwise enter No : '))\n",
    "\n",
    "driving_permit = 'Sorry, you can’t drive yet!' if int(age) < 18 else 'Sorry, you can’t drive yet!' if(driving_license=='NO')else 'Yes, you can drive!\n",
    "print(driving_permit)\n",
    "  \n"
   ]
  },
  {
   "cell_type": "markdown",
   "metadata": {},
   "source": [
    "### Quiz "
   ]
  },
  {
   "cell_type": "code",
   "execution_count": 7,
   "metadata": {},
   "outputs": [
    {
     "name": "stdout",
     "output_type": "stream",
     "text": [
      "Statment will not excuated\n"
     ]
    }
   ],
   "source": [
    "x=0\n",
    "if(x):\n",
    "    print('Statment will excuated')\n",
    "else:\n",
    "    print('Statment will not excuated')\n",
    "\n",
    "# what will be the output"
   ]
  },
  {
   "cell_type": "code",
   "execution_count": 15,
   "metadata": {},
   "outputs": [
    {
     "name": "stdout",
     "output_type": "stream",
     "text": [
      "Statment will excuated\n"
     ]
    }
   ],
   "source": [
    "x=1\n",
    "if(x):\n",
    "    print('Statment will excuated')\n",
    "else:\n",
    "    print('Statment will not excuated')\n",
    "\n",
    "# what will be the output"
   ]
  },
  {
   "cell_type": "code",
   "execution_count": 9,
   "metadata": {},
   "outputs": [
    {
     "name": "stdout",
     "output_type": "stream",
     "text": [
      "Statment will excuated\n"
     ]
    }
   ],
   "source": [
    "x=-1\n",
    "if(x):\n",
    "    print('Statment will excuated')\n",
    "else:\n",
    "    print('Statment will not excuated')\n",
    "\n",
    "# what will be the output"
   ]
  },
  {
   "cell_type": "code",
   "execution_count": 16,
   "metadata": {},
   "outputs": [
    {
     "name": "stdout",
     "output_type": "stream",
     "text": [
      "Statment will excauted\n"
     ]
    }
   ],
   "source": [
    "z=0\n",
    "if(z==0):\n",
    "    print('Statment will excauted')\n",
    "else:\n",
    "    print('Statment will not excuated')"
   ]
  },
  {
   "cell_type": "code",
   "execution_count": 17,
   "metadata": {},
   "outputs": [
    {
     "name": "stdout",
     "output_type": "stream",
     "text": [
      "Statment will excauted\n"
     ]
    }
   ],
   "source": [
    "z=False\n",
    "if(z==False):\n",
    "    print('Statment will excauted')\n"
   ]
  },
  {
   "cell_type": "code",
   "execution_count": 18,
   "metadata": {},
   "outputs": [],
   "source": [
    "if(0):\n",
    "    print('Hello')\n",
    "    "
   ]
  },
  {
   "cell_type": "code",
   "execution_count": null,
   "metadata": {},
   "outputs": [],
   "source": []
  }
 ],
 "metadata": {
  "kernelspec": {
   "display_name": "Python 3",
   "language": "python",
   "name": "python3"
  },
  "language_info": {
   "codemirror_mode": {
    "name": "ipython",
    "version": 3
   },
   "file_extension": ".py",
   "mimetype": "text/x-python",
   "name": "python",
   "nbconvert_exporter": "python",
   "pygments_lexer": "ipython3",
   "version": "3.8.3"
  }
 },
 "nbformat": 4,
 "nbformat_minor": 4
}
