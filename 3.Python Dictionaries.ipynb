{
 "cells": [
  {
   "cell_type": "markdown",
   "metadata": {},
   "source": [
    "# Python Dictionaries\n",
    "<b><li>Dictionaries are used to store data values in key:value pairs.\n",
    "    <li>A dictionary is a collection which is ordered*, changeable and do not allow duplicates.\n",
    "        <li>Dictionaries are written with curly brackets, and have keys and values:"
   ]
  },
  {
   "cell_type": "code",
   "execution_count": 1,
   "metadata": {},
   "outputs": [
    {
     "name": "stdout",
     "output_type": "stream",
     "text": [
      "{'1st_month': 'Python', '2nd_month': 'Statistics', '3rd_month': 'Machine learning', '4th_month': 'Deep learning'}\n"
     ]
    }
   ],
   "source": [
    "course_Contents={'1st_month':'Python','2nd_month':'Statistics','3rd_month':'Machine learning','4th_month':'Deep learning'}\n",
    "print(course_Contents)"
   ]
  },
  {
   "cell_type": "code",
   "execution_count": 2,
   "metadata": {},
   "outputs": [
    {
     "name": "stdout",
     "output_type": "stream",
     "text": [
      "Python\n",
      "Deep learning\n"
     ]
    }
   ],
   "source": [
    "print(course_Contents['1st_month'])\n",
    "print(course_Contents['4th_month'])"
   ]
  },
  {
   "cell_type": "code",
   "execution_count": 3,
   "metadata": {},
   "outputs": [
    {
     "data": {
      "text/plain": [
       "{'brand': 'Ford', 'model': 'Mustang', 'year': 2020}"
      ]
     },
     "execution_count": 3,
     "metadata": {},
     "output_type": "execute_result"
    }
   ],
   "source": [
    "# Duplicate values will overwrite existing values:\n",
    "thisdict = {\n",
    "  \"brand\": \"Ford\",\n",
    "  \"model\": \"Mustang\",\n",
    "  \"year\": 1964,\n",
    "  \"year\": 2020\n",
    "}\n",
    "thisdict"
   ]
  },
  {
   "cell_type": "code",
   "execution_count": 4,
   "metadata": {},
   "outputs": [
    {
     "data": {
      "text/plain": [
       "4"
      ]
     },
     "execution_count": 4,
     "metadata": {},
     "output_type": "execute_result"
    }
   ],
   "source": [
    "#lenght\n",
    "len(course_Contents)"
   ]
  },
  {
   "cell_type": "code",
   "execution_count": 5,
   "metadata": {},
   "outputs": [
    {
     "name": "stdout",
     "output_type": "stream",
     "text": [
      "Python\n"
     ]
    }
   ],
   "source": [
    "#Access Dictionary Items\n",
    "print(course_Contents['1st_month'])"
   ]
  },
  {
   "cell_type": "code",
   "execution_count": 6,
   "metadata": {},
   "outputs": [
    {
     "data": {
      "text/plain": [
       "'Python'"
      ]
     },
     "execution_count": 6,
     "metadata": {},
     "output_type": "execute_result"
    }
   ],
   "source": [
    "# Get the value of the \"model\" key:\n",
    "x = course_Contents.get(\"1st_month\")\n",
    "x"
   ]
  },
  {
   "cell_type": "code",
   "execution_count": 7,
   "metadata": {},
   "outputs": [
    {
     "data": {
      "text/plain": [
       "dict_keys(['1st_month', '2nd_month', '3rd_month', '4th_month'])"
      ]
     },
     "execution_count": 7,
     "metadata": {},
     "output_type": "execute_result"
    }
   ],
   "source": [
    "# Get Keys\n",
    "x = course_Contents.keys()\n",
    "x"
   ]
  },
  {
   "cell_type": "code",
   "execution_count": 8,
   "metadata": {},
   "outputs": [
    {
     "data": {
      "text/plain": [
       "dict_values(['Python', 'Statistics', 'Machine learning', 'Deep learning'])"
      ]
     },
     "execution_count": 8,
     "metadata": {},
     "output_type": "execute_result"
    }
   ],
   "source": [
    "# Get Values\n",
    "x = course_Contents.values()\n",
    "x"
   ]
  },
  {
   "cell_type": "code",
   "execution_count": 9,
   "metadata": {},
   "outputs": [
    {
     "data": {
      "text/plain": [
       "{'1st_month': 'Python',\n",
       " '2nd_month': 'Statistics',\n",
       " '3rd_month': 'Machine learning',\n",
       " '4th_month': 'DL'}"
      ]
     },
     "execution_count": 9,
     "metadata": {},
     "output_type": "execute_result"
    }
   ],
   "source": [
    "#Change Values\n",
    "course_Contents['4th_month']='DL'\n",
    "course_Contents"
   ]
  },
  {
   "cell_type": "code",
   "execution_count": 10,
   "metadata": {},
   "outputs": [
    {
     "data": {
      "text/plain": [
       "{'1st_month': 'Python',\n",
       " '2nd_month': 'Statistics',\n",
       " '3rd_month': 'Machine learning',\n",
       " '4th_month': 'DL',\n",
       " '5th_months': 'Project'}"
      ]
     },
     "execution_count": 10,
     "metadata": {},
     "output_type": "execute_result"
    }
   ],
   "source": [
    "# Update Dictionary\n",
    "course_Contents.update({'5th_months':'Project'})\n",
    "course_Contents"
   ]
  },
  {
   "cell_type": "raw",
   "metadata": {},
   "source": []
  },
  {
   "cell_type": "code",
   "execution_count": 11,
   "metadata": {},
   "outputs": [
    {
     "data": {
      "text/plain": [
       "{'1st_month': 'Python',\n",
       " '2nd_month': 'Statistics',\n",
       " '3rd_month': 'Machine learning',\n",
       " '4th_month': 'DL',\n",
       " '5th_months': 'Project',\n",
       " '6th_months': 'Entrepreneurship'}"
      ]
     },
     "execution_count": 11,
     "metadata": {},
     "output_type": "execute_result"
    }
   ],
   "source": [
    "# Adding Items\n",
    "course_Contents['6th_months']='Entrepreneurship'\n",
    "course_Contents"
   ]
  },
  {
   "cell_type": "code",
   "execution_count": 12,
   "metadata": {},
   "outputs": [
    {
     "data": {
      "text/plain": [
       "'Entrepreneurship'"
      ]
     },
     "execution_count": 12,
     "metadata": {},
     "output_type": "execute_result"
    }
   ],
   "source": [
    "# Removing Items\n",
    "course_Contents.pop('6th_months')"
   ]
  },
  {
   "cell_type": "code",
   "execution_count": 13,
   "metadata": {},
   "outputs": [],
   "source": [
    "thisdict = {\n",
    "  \"brand\": \"Ford\",\n",
    "  \"model\": \"Mustang\",\n",
    "  \"year\": 1964,\n",
    "  \"year\": 2020\n",
    "}\n",
    "del thisdict"
   ]
  },
  {
   "cell_type": "code",
   "execution_count": 14,
   "metadata": {},
   "outputs": [],
   "source": [
    "#Copy dict\n",
    "course_Contents1=course_Contents.copy()"
   ]
  },
  {
   "cell_type": "code",
   "execution_count": 15,
   "metadata": {},
   "outputs": [],
   "source": [
    "artificial_Intelligence={\n",
    "    \n",
    "    'Machine_learnine':{\n",
    "        'type1':'Supervised learning algorithms',\n",
    "        'type2':'UnSupervised learning algorithms'\n",
    "        \n",
    "    },\n",
    "    'Deeplearning':{\n",
    "        'type1':'ANN',\n",
    "        'type2':'CNN',\n",
    "        'type3':'RNN',\n",
    "        \n",
    "    }\n",
    "}"
   ]
  },
  {
   "cell_type": "code",
   "execution_count": 16,
   "metadata": {},
   "outputs": [
    {
     "data": {
      "text/plain": [
       "'Supervised learning algorithms'"
      ]
     },
     "execution_count": 16,
     "metadata": {},
     "output_type": "execute_result"
    }
   ],
   "source": [
    "artificial_Intelligence['Machine_learnine']['type1']"
   ]
  },
  {
   "cell_type": "markdown",
   "metadata": {},
   "source": [
    "### Sample chatbot using dictionary"
   ]
  },
  {
   "cell_type": "code",
   "execution_count": 32,
   "metadata": {},
   "outputs": [
    {
     "name": "stdout",
     "output_type": "stream",
     "text": [
      "You: hi\n",
      "Chatbot:  Hello, how can I help you today?\n"
     ]
    }
   ],
   "source": [
    "# define the dictionary of question-answer pairs\n",
    "qa_dict = {\n",
    "    \"hi\": \"Hello, how can I help you today?\",\n",
    "    'Hello':'Hello',\n",
    "    \"how are you\": \"I'm good, thank you. How about you?\",\n",
    "    \"what is your name\": \"My name is ChatBot. What's yours?\",\n",
    "    \"what can you do\": \"I can answer your questions and help you find information.\",\n",
    "    \"bye\": \"Goodbye, have a great day!\"\n",
    "}\n",
    "\n",
    "# get input from user and provide answer from dictionary if available\n",
    "question = str(input(\"You: \"))\n",
    "if question in qa_dict:\n",
    "    print('Chatbot: ', qa_dict[question])\n",
    "else:\n",
    "    print(\"Chatbot: I'm sorry, I don't understand your question.\")\n"
   ]
  },
  {
   "cell_type": "markdown",
   "metadata": {},
   "source": [
    "### Assignment"
   ]
  },
  {
   "cell_type": "markdown",
   "metadata": {},
   "source": [
    "<ol>\n",
    "<li>Create a dictionary called \"student_info\" that contains the following key-value pairs:\n",
    "<ul>\n",
    "<li>\"name\": \"John Doe\"</li>\n",
    "<li>\"age\": 23</li>\n",
    "<li>\"gender\": \"Male\"</li>\n",
    "<li>\"student_id\": \"ABC123\"</li>\n",
    "</ul></li>\n",
    "<li>Print the value associated with the \"name\" key.</li>\n",
    "<li>Change the value associated with the \"age\" key to 24.</li>\n",
    "<li>Add a new key-value pair to the dictionary: \"major\": \"Computer Science\".</li>\n",
    "<li>Use the \"del\" keyword to remove the \"gender\" key-value pair from the dictionary.</li>\n",
    "<li>Use the \"keys\" method to print all the keys in the dictionary.</li>\n",
    "<li>Use the \"values\" method to print all the values in the dictionary.</li>\n",
    "</ol>"
   ]
  },
  {
   "cell_type": "code",
   "execution_count": 17,
   "metadata": {},
   "outputs": [
    {
     "data": {
      "text/plain": [
       "'to learn more on dict method visit this website\\nhttps://www.programiz.com/python-programming/methods/dictionary'"
      ]
     },
     "execution_count": 17,
     "metadata": {},
     "output_type": "execute_result"
    }
   ],
   "source": [
    "\"\"\"to learn more on dict method visit this website\n",
    "https://www.programiz.com/python-programming/methods/dictionary\"\"\""
   ]
  },
  {
   "cell_type": "code",
   "execution_count": null,
   "metadata": {},
   "outputs": [],
   "source": []
  },
  {
   "cell_type": "code",
   "execution_count": null,
   "metadata": {},
   "outputs": [],
   "source": []
  }
 ],
 "metadata": {
  "kernelspec": {
   "display_name": "Python 3 (ipykernel)",
   "language": "python",
   "name": "python3"
  },
  "language_info": {
   "codemirror_mode": {
    "name": "ipython",
    "version": 3
   },
   "file_extension": ".py",
   "mimetype": "text/x-python",
   "name": "python",
   "nbconvert_exporter": "python",
   "pygments_lexer": "ipython3",
   "version": "3.9.7"
  }
 },
 "nbformat": 4,
 "nbformat_minor": 4
}
