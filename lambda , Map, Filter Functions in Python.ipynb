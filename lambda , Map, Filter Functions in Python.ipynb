{
 "cells": [
  {
   "cell_type": "markdown",
   "id": "ae8bb9f5",
   "metadata": {},
   "source": [
    "### Python Lambda\n",
    "<li>A lambda function is a small anonymous function.\n",
    "\n",
    "<li>A lambda function can take any number of arguments, but can only have one expression.  \n",
    "   <br>Syntax \n",
    "\n",
    "lambda arguments : expression"
   ]
  },
  {
   "cell_type": "code",
   "execution_count": 1,
   "id": "ce324ee2",
   "metadata": {},
   "outputs": [],
   "source": [
    "x=lambda a:a+10"
   ]
  },
  {
   "cell_type": "code",
   "execution_count": 2,
   "id": "8899b97a",
   "metadata": {},
   "outputs": [
    {
     "data": {
      "text/plain": [
       "20"
      ]
     },
     "execution_count": 2,
     "metadata": {},
     "output_type": "execute_result"
    }
   ],
   "source": [
    "x(10)"
   ]
  },
  {
   "cell_type": "code",
   "execution_count": 6,
   "id": "2b089122",
   "metadata": {},
   "outputs": [],
   "source": [
    "#Two vriable\n",
    "x = lambda a, b : a * b"
   ]
  },
  {
   "cell_type": "code",
   "execution_count": 7,
   "id": "44e37acc",
   "metadata": {},
   "outputs": [
    {
     "data": {
      "text/plain": [
       "30"
      ]
     },
     "execution_count": 7,
     "metadata": {},
     "output_type": "execute_result"
    }
   ],
   "source": [
    "x(5,6)"
   ]
  },
  {
   "cell_type": "code",
   "execution_count": 8,
   "id": "3b11ac96",
   "metadata": {},
   "outputs": [
    {
     "name": "stdout",
     "output_type": "stream",
     "text": [
      "13\n"
     ]
    }
   ],
   "source": [
    "x = lambda a, b, c : a + b + c\n",
    "print(x(5, 6, 2))"
   ]
  },
  {
   "cell_type": "markdown",
   "id": "3825c4b7",
   "metadata": {},
   "source": [
    "### Map\n",
    "map() function returns a map object(which is an iterator) of the results after applying the given function to each item of a given iterable (list, tuple etc.)"
   ]
  },
  {
   "cell_type": "code",
   "execution_count": 9,
   "id": "166d67a8",
   "metadata": {},
   "outputs": [],
   "source": [
    "#Syntex\n",
    "# map(fun, iter)"
   ]
  },
  {
   "cell_type": "code",
   "execution_count": 18,
   "id": "b929289c",
   "metadata": {},
   "outputs": [],
   "source": [
    "def Sum_2(a):\n",
    "    return a+2"
   ]
  },
  {
   "cell_type": "code",
   "execution_count": 19,
   "id": "677e3384",
   "metadata": {},
   "outputs": [
    {
     "data": {
      "text/plain": [
       "<map at 0x25fddae15e0>"
      ]
     },
     "execution_count": 19,
     "metadata": {},
     "output_type": "execute_result"
    }
   ],
   "source": [
    "x=map(Sum_2,[3,4,5])\n",
    "x"
   ]
  },
  {
   "cell_type": "code",
   "execution_count": 20,
   "id": "229ed2be",
   "metadata": {},
   "outputs": [
    {
     "name": "stdout",
     "output_type": "stream",
     "text": [
      "(5, 6, 7)\n"
     ]
    }
   ],
   "source": [
    "print(tuple(x))"
   ]
  },
  {
   "cell_type": "code",
   "execution_count": 22,
   "id": "81d876f8",
   "metadata": {},
   "outputs": [
    {
     "name": "stdout",
     "output_type": "stream",
     "text": [
      "(12, 6, 12)\n"
     ]
    }
   ],
   "source": [
    "def new (a,b):\n",
    "    return a*b\n",
    "X=map(new,[1,2,3],[12,3,4])\n",
    "print(tuple(X))"
   ]
  },
  {
   "cell_type": "code",
   "execution_count": 23,
   "id": "56ad7715",
   "metadata": {},
   "outputs": [],
   "source": [
    "y=map(lambda a:a+10,[1,2,3,4])"
   ]
  },
  {
   "cell_type": "code",
   "execution_count": 25,
   "id": "3c7c5629",
   "metadata": {},
   "outputs": [
    {
     "name": "stdout",
     "output_type": "stream",
     "text": [
      "(11, 12, 13, 14)\n"
     ]
    }
   ],
   "source": [
    "print(tuple(y))"
   ]
  },
  {
   "cell_type": "markdown",
   "id": "0b7ed78b",
   "metadata": {},
   "source": [
    "### Filter Function\n",
    "Filter the array, and return a new array with only the values equal to or above 18:"
   ]
  },
  {
   "cell_type": "code",
   "execution_count": 26,
   "id": "685a68d6",
   "metadata": {},
   "outputs": [
    {
     "name": "stdout",
     "output_type": "stream",
     "text": [
      "18\n",
      "24\n",
      "32\n"
     ]
    }
   ],
   "source": [
    "ages = [5, 12, 17, 18, 24, 32]\n",
    "\n",
    "def myFunc(x):\n",
    "  if x < 18:\n",
    "    return False\n",
    "  else:\n",
    "    return True\n",
    "\n",
    "adults = filter(myFunc, ages)\n",
    "\n",
    "for x in adults:\n",
    "  print(x)"
   ]
  },
  {
   "cell_type": "code",
   "execution_count": null,
   "id": "13430403",
   "metadata": {},
   "outputs": [],
   "source": []
  }
 ],
 "metadata": {
  "kernelspec": {
   "display_name": "Python 3 (ipykernel)",
   "language": "python",
   "name": "python3"
  },
  "language_info": {
   "codemirror_mode": {
    "name": "ipython",
    "version": 3
   },
   "file_extension": ".py",
   "mimetype": "text/x-python",
   "name": "python",
   "nbconvert_exporter": "python",
   "pygments_lexer": "ipython3",
   "version": "3.9.12"
  },
  "varInspector": {
   "cols": {
    "lenName": 16,
    "lenType": 16,
    "lenVar": 40
   },
   "kernels_config": {
    "python": {
     "delete_cmd_postfix": "",
     "delete_cmd_prefix": "del ",
     "library": "var_list.py",
     "varRefreshCmd": "print(var_dic_list())"
    },
    "r": {
     "delete_cmd_postfix": ") ",
     "delete_cmd_prefix": "rm(",
     "library": "var_list.r",
     "varRefreshCmd": "cat(var_dic_list()) "
    }
   },
   "types_to_exclude": [
    "module",
    "function",
    "builtin_function_or_method",
    "instance",
    "_Feature"
   ],
   "window_display": false
  }
 },
 "nbformat": 4,
 "nbformat_minor": 5
}
