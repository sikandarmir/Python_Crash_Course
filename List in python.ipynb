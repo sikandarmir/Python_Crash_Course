{
 "cells": [
  {
   "cell_type": "markdown",
   "metadata": {},
   "source": [
    "# Python Collections (Arrays)\n",
    "<b>\n",
    "There are four collection data types in the Python programming language:</b>\n",
    "<br>\n",
    "<li>\n",
    "List is a collection which is ordered and changeable. Allows duplicate members.\n",
    "<br><li>\n",
    "Tuple is a collection which is ordered and unchangeable. Allows duplicate members.\n",
    "<br><li>\n",
    "Set is a collection which is unordered, unchangeable*, and unindexed. No duplicate members.\n",
    "<br><li>\n",
    "Dictionary is a collection which is ordered** and changeable. No duplicate members\n"
   ]
  },
  {
   "cell_type": "markdown",
   "metadata": {},
   "source": [
    "# List\n",
    "Lists are used to store multiple items in a single variable.\n",
    "<br>Lists are created using square brackets:"
   ]
  },
  {
   "cell_type": "code",
   "execution_count": 3,
   "metadata": {},
   "outputs": [
    {
     "name": "stdout",
     "output_type": "stream",
     "text": [
      "['Machine learning', 'Deep learning', 'Natural Language Processing', 'Computer Vision']\n"
     ]
    }
   ],
   "source": [
    "artificial_Intelligence=['Machine learning', 'Deep learning','Natural Language Processing','Computer Vision']\n",
    "print(artificial_Intelligence)   "
   ]
  },
  {
   "cell_type": "code",
   "execution_count": 5,
   "metadata": {
    "scrolled": true
   },
   "outputs": [
    {
     "name": "stdout",
     "output_type": "stream",
     "text": [
      "[1, 5, 7, 9, 3]\n",
      "[True, False, False]\n"
     ]
    }
   ],
   "source": [
    "list1 = [1, 5, 7, 9, 3]\n",
    "list2 = [True, False, False]\n",
    "print(list1)\n",
    "print(list2)\n"
   ]
  },
  {
   "cell_type": "code",
   "execution_count": 9,
   "metadata": {},
   "outputs": [
    {
     "data": {
      "text/plain": [
       "(5, 3, 4)"
      ]
     },
     "execution_count": 9,
     "metadata": {},
     "output_type": "execute_result"
    }
   ],
   "source": [
    "# List lenght\n",
    "len(list1),len(list2),len(artificial_Intelligence)"
   ]
  },
  {
   "cell_type": "markdown",
   "metadata": {},
   "source": [
    "### Access Items\n",
    "List items are indexed and you can access them by referring to the index number:"
   ]
  },
  {
   "cell_type": "code",
   "execution_count": 10,
   "metadata": {},
   "outputs": [
    {
     "name": "stdout",
     "output_type": "stream",
     "text": [
      "Machine learning\n"
     ]
    }
   ],
   "source": [
    "print(artificial_Intelligence[0])"
   ]
  },
  {
   "cell_type": "code",
   "execution_count": 11,
   "metadata": {},
   "outputs": [
    {
     "name": "stdout",
     "output_type": "stream",
     "text": [
      "Computer Vision\n"
     ]
    }
   ],
   "source": [
    "#Negative Indexing\n",
    "'''Negative indexing means start from the end\n",
    "\n",
    "-1 refers to the last item, -2 refers to the second last item etc.'''\n",
    "print(artificial_Intelligence[-1])"
   ]
  },
  {
   "cell_type": "markdown",
   "metadata": {},
   "source": [
    "### Range of Indexes"
   ]
  },
  {
   "cell_type": "code",
   "execution_count": 12,
   "metadata": {},
   "outputs": [
    {
     "name": "stdout",
     "output_type": "stream",
     "text": [
      "['Machine learning', 'Deep learning', 'Natural Language Processing', 'Computer Vision']\n"
     ]
    }
   ],
   "source": [
    "\n",
    "print(artificial_Intelligence[0:])"
   ]
  },
  {
   "cell_type": "code",
   "execution_count": 13,
   "metadata": {},
   "outputs": [
    {
     "name": "stdout",
     "output_type": "stream",
     "text": [
      "['Deep learning', 'Natural Language Processing']\n"
     ]
    }
   ],
   "source": [
    "print(artificial_Intelligence[1:-1])"
   ]
  },
  {
   "cell_type": "code",
   "execution_count": 15,
   "metadata": {},
   "outputs": [
    {
     "name": "stdout",
     "output_type": "stream",
     "text": [
      "['Machine learning', 'Deep learning', 'Natural Language Processing']\n"
     ]
    }
   ],
   "source": [
    "print(artificial_Intelligence[:3])"
   ]
  },
  {
   "cell_type": "code",
   "execution_count": 16,
   "metadata": {},
   "outputs": [
    {
     "name": "stdout",
     "output_type": "stream",
     "text": [
      "['Machine learning', 'Deep learning', 'Natural Language Processing']\n"
     ]
    }
   ],
   "source": [
    "print(artificial_Intelligence[-4:-1])"
   ]
  },
  {
   "cell_type": "code",
   "execution_count": 17,
   "metadata": {},
   "outputs": [
    {
     "name": "stdout",
     "output_type": "stream",
     "text": [
      "['Machine learning', 'Deep learning', 'Natural Language Processing', 'Computer Vision']\n"
     ]
    }
   ],
   "source": [
    "print(artificial_Intelligence[-4:])"
   ]
  },
  {
   "cell_type": "code",
   "execution_count": 18,
   "metadata": {},
   "outputs": [
    {
     "name": "stdout",
     "output_type": "stream",
     "text": [
      "['Machine learning', 'Deep learning', 'Natural Language Processing', 'Computer Vision']\n"
     ]
    }
   ],
   "source": [
    "print(artificial_Intelligence[0:len(artificial_Intelligence)])"
   ]
  },
  {
   "cell_type": "markdown",
   "metadata": {},
   "source": [
    "### Changeable\n",
    "The list is changeable, meaning that we can change, add, and remove items in a list after it has been created."
   ]
  },
  {
   "cell_type": "code",
   "execution_count": 27,
   "metadata": {},
   "outputs": [
    {
     "name": "stdout",
     "output_type": "stream",
     "text": [
      "['ML', 'DL', 'NLP', 'CV']\n"
     ]
    }
   ],
   "source": [
    "#To change the value of a specific item, refer to the index number:\n",
    "artificial_Intelligence[0]='ML'\n",
    "print(artificial_Intelligence)"
   ]
  },
  {
   "cell_type": "code",
   "execution_count": 28,
   "metadata": {},
   "outputs": [
    {
     "name": "stdout",
     "output_type": "stream",
     "text": [
      "['ML', 'DL', 'NLP', 'CV']\n"
     ]
    }
   ],
   "source": [
    "#change the value of list index\n",
    "artificial_Intelligence[-1]='CV'\n",
    "print(artificial_Intelligence)"
   ]
  },
  {
   "cell_type": "code",
   "execution_count": 29,
   "metadata": {},
   "outputs": [
    {
     "name": "stdout",
     "output_type": "stream",
     "text": [
      "['ML', 'DL', 'NLP', 'CV']\n"
     ]
    }
   ],
   "source": [
    "#Change a Range of Item Values\n",
    "artificial_Intelligence[1:-1]=['DL','NLP']\n",
    "print(artificial_Intelligence)"
   ]
  },
  {
   "cell_type": "markdown",
   "metadata": {},
   "source": [
    "### Insert Items\n",
    "To insert a new list item, without replacing any of the existing values, we can use the insert() method."
   ]
  },
  {
   "cell_type": "code",
   "execution_count": 31,
   "metadata": {},
   "outputs": [
    {
     "name": "stdout",
     "output_type": "stream",
     "text": [
      "['Data science', 'Machine learning', 'ML', 'DL', 'NLP', 'CV']\n"
     ]
    }
   ],
   "source": [
    "artificial_Intelligence.insert(0,'Data science')\n",
    "print(artificial_Intelligence)"
   ]
  },
  {
   "cell_type": "code",
   "execution_count": 33,
   "metadata": {},
   "outputs": [
    {
     "name": "stdout",
     "output_type": "stream",
     "text": [
      "['Data science', 'Machine learning', 'ML', 'DL', 'NLP', 'CV', 'Neural Networks']\n"
     ]
    }
   ],
   "source": [
    "# To add an item to the end of the list, use the append() method:\n",
    "artificial_Intelligence.append('Neural Networks')\n",
    "print(artificial_Intelligence)"
   ]
  },
  {
   "cell_type": "code",
   "execution_count": 35,
   "metadata": {},
   "outputs": [
    {
     "name": "stdout",
     "output_type": "stream",
     "text": [
      "['Data science', 'Machine learning', 'ML', 'DL', 'NLP', 'CV', 'Neural Networks', 'Robotics', 'Expert Systems', 'Speech Processing', 'Robotics', 'Expert Systems', 'Speech Processing']\n"
     ]
    }
   ],
   "source": [
    "# Extend List\n",
    "AI=['Robotics','Expert Systems','Speech Processing']\n",
    "artificial_Intelligence.extend(AI)\n",
    "print(artificial_Intelligence)"
   ]
  },
  {
   "cell_type": "markdown",
   "metadata": {},
   "source": [
    "### Remove List Items\n"
   ]
  },
  {
   "cell_type": "code",
   "execution_count": 42,
   "metadata": {},
   "outputs": [],
   "source": [
    "#The remove() method removes the specified item.\n",
    "artificial_Intelligence.remove('Machine learning')\n",
    "artificial_Intelligence"
   ]
  },
  {
   "cell_type": "code",
   "execution_count": 43,
   "metadata": {},
   "outputs": [
    {
     "data": {
      "text/plain": [
       "['DL',\n",
       " 'NLP',\n",
       " 'CV',\n",
       " 'Neural Networks',\n",
       " 'Robotics',\n",
       " 'Expert Systems',\n",
       " 'Speech Processing',\n",
       " 'Robotics',\n",
       " 'Expert Systems',\n",
       " 'Speech Processing']"
      ]
     },
     "execution_count": 43,
     "metadata": {},
     "output_type": "execute_result"
    }
   ],
   "source": [
    "#The pop() method removes the specified index.\n",
    "artificial_Intelligence.pop(0)\n",
    "artificial_Intelligence"
   ]
  },
  {
   "cell_type": "code",
   "execution_count": 45,
   "metadata": {},
   "outputs": [],
   "source": [
    "# if you want to delete the specfic list use del keyword\n",
    "AI=['Robotics','Expert Systems','Speech Processing']\n",
    "del AI\n",
    "# print(AI)"
   ]
  },
  {
   "cell_type": "code",
   "execution_count": 47,
   "metadata": {},
   "outputs": [
    {
     "name": "stdout",
     "output_type": "stream",
     "text": [
      "['Robotics', 'Expert Systems', 'Speech Processing']\n"
     ]
    }
   ],
   "source": [
    "#The clear() method empties the list.\n",
    "AI=['Robotics','Expert Systems','Speech Processing']\n",
    "AI.clear\n",
    "print(AI)"
   ]
  },
  {
   "cell_type": "markdown",
   "metadata": {},
   "source": [
    "### Sort Lists\n",
    "List objects have a sort() method that will sort the list alphanumerically, ascending, by default:"
   ]
  },
  {
   "cell_type": "code",
   "execution_count": 3,
   "metadata": {},
   "outputs": [
    {
     "name": "stdout",
     "output_type": "stream",
     "text": [
      "['banana', 'kiwi', 'mango', 'orange', 'pineapple']\n"
     ]
    }
   ],
   "source": [
    "#Sort the list alphabetically:\n",
    "thislist = [\"orange\", \"mango\", \"kiwi\", \"pineapple\", \"banana\"]\n",
    "thislist.sort()\n",
    "print(thislist)"
   ]
  },
  {
   "cell_type": "code",
   "execution_count": 4,
   "metadata": {},
   "outputs": [
    {
     "name": "stdout",
     "output_type": "stream",
     "text": [
      "[23, 50, 65, 82, 100]\n"
     ]
    }
   ],
   "source": [
    "#Sort the list numerically:\n",
    "thislist = [100, 50, 65, 82, 23]\n",
    "thislist.sort()\n",
    "print(thislist)"
   ]
  },
  {
   "cell_type": "code",
   "execution_count": 5,
   "metadata": {},
   "outputs": [
    {
     "name": "stdout",
     "output_type": "stream",
     "text": [
      "[100, 82, 65, 50, 23]\n"
     ]
    }
   ],
   "source": [
    "# Sort the list descending:\n",
    "thislist = [100, 50, 65, 82, 23]\n",
    "thislist.sort(reverse = True)\n",
    "print(thislist)"
   ]
  },
  {
   "cell_type": "code",
   "execution_count": 6,
   "metadata": {},
   "outputs": [
    {
     "name": "stdout",
     "output_type": "stream",
     "text": [
      "[100, 82, 65, 50, 23]\n"
     ]
    }
   ],
   "source": [
    "#Copy a List\n",
    "\"\"\"'You cannot copy a list simply by typing list2 = list1,\n",
    "because: list2 will only be a reference to list1, and changes made in list1 will automatically also be made in list2.'\"\"\"\n",
    "copy_List=thislist.copy()\n",
    "print(copy_List)"
   ]
  },
  {
   "cell_type": "code",
   "execution_count": null,
   "metadata": {},
   "outputs": [],
   "source": []
  }
 ],
 "metadata": {
  "kernelspec": {
   "display_name": "Python 3",
   "language": "python",
   "name": "python3"
  },
  "language_info": {
   "codemirror_mode": {
    "name": "ipython",
    "version": 3
   },
   "file_extension": ".py",
   "mimetype": "text/x-python",
   "name": "python",
   "nbconvert_exporter": "python",
   "pygments_lexer": "ipython3",
   "version": "3.8.3"
  }
 },
 "nbformat": 4,
 "nbformat_minor": 4
}
