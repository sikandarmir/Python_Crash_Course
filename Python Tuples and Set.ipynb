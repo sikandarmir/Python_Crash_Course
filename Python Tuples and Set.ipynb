{
 "cells": [
  {
   "cell_type": "markdown",
   "metadata": {},
   "source": [
    "# Tuple\n",
    "<b> <li> Tuples are used to store multiple items in a single variable.\n",
    "<br> <li>A tuple is a collection which is ordered and unchangeable.\n",
    " <br><li>Tuples are written with round brackets.</li>"
   ]
  },
  {
   "cell_type": "code",
   "execution_count": 3,
   "metadata": {},
   "outputs": [],
   "source": [
    "AI_Tuple=('Machine learning', 'Deep learning','Natural Language Processing','Computer Vision',4)"
   ]
  },
  {
   "cell_type": "code",
   "execution_count": 6,
   "metadata": {},
   "outputs": [
    {
     "name": "stdout",
     "output_type": "stream",
     "text": [
      "5\n"
     ]
    }
   ],
   "source": [
    "#Lenght tuple\n",
    "print(len(AI_Tuple))"
   ]
  },
  {
   "cell_type": "code",
   "execution_count": 7,
   "metadata": {},
   "outputs": [
    {
     "data": {
      "text/plain": [
       "tuple"
      ]
     },
     "execution_count": 7,
     "metadata": {},
     "output_type": "execute_result"
    }
   ],
   "source": [
    "# type()\n",
    "type(AI_Tuple)"
   ]
  },
  {
   "cell_type": "code",
   "execution_count": 8,
   "metadata": {},
   "outputs": [
    {
     "name": "stdout",
     "output_type": "stream",
     "text": [
      "Machine learning\n"
     ]
    }
   ],
   "source": [
    "#Access Tuple Items\n",
    "print(AI_Tuple[0])"
   ]
  },
  {
   "cell_type": "code",
   "execution_count": 11,
   "metadata": {},
   "outputs": [
    {
     "name": "stdout",
     "output_type": "stream",
     "text": [
      "Computer Vision\n"
     ]
    }
   ],
   "source": [
    "print(AI_Tuple[3])"
   ]
  },
  {
   "cell_type": "code",
   "execution_count": 13,
   "metadata": {},
   "outputs": [
    {
     "name": "stdout",
     "output_type": "stream",
     "text": [
      "4\n"
     ]
    }
   ],
   "source": [
    "#Negative Indexing\n",
    "print(AI_Tuple[-1])"
   ]
  },
  {
   "cell_type": "code",
   "execution_count": 15,
   "metadata": {},
   "outputs": [
    {
     "name": "stdout",
     "output_type": "stream",
     "text": [
      "Computer Vision\n"
     ]
    }
   ],
   "source": [
    "print(AI_Tuple[-2])"
   ]
  },
  {
   "cell_type": "code",
   "execution_count": 20,
   "metadata": {},
   "outputs": [
    {
     "name": "stdout",
     "output_type": "stream",
     "text": [
      "('Machine learning', 'Deep learning', 'Natural Language Processing', 'Computer Vision', 4)\n"
     ]
    }
   ],
   "source": [
    "# Range of Indexes\n",
    "print(AI_Tuple[0:len(AI_Tuple)])"
   ]
  },
  {
   "cell_type": "code",
   "execution_count": 21,
   "metadata": {},
   "outputs": [
    {
     "name": "stdout",
     "output_type": "stream",
     "text": [
      "(4, 'Computer Vision', 'Natural Language Processing', 'Deep learning')\n"
     ]
    }
   ],
   "source": [
    "print(AI_Tuple[len(AI_Tuple):0:-1])"
   ]
  },
  {
   "cell_type": "code",
   "execution_count": 27,
   "metadata": {},
   "outputs": [
    {
     "name": "stdout",
     "output_type": "stream",
     "text": [
      "('Machine learning', 'Deep learning', 'Natural Language Processing', 'Computer Vision', 'Robotics')\n"
     ]
    },
    {
     "data": {
      "text/plain": [
       "tuple"
      ]
     },
     "execution_count": 27,
     "metadata": {},
     "output_type": "execute_result"
    }
   ],
   "source": [
    "# Change Tuple Values\n",
    "tuple_list=list(AI_Tuple)\n",
    "tuple_list[-1]='Robotics'\n",
    "list_tuple=tuple(tuple_list)\n",
    "print(list_tuple)\n",
    "type(list_tuple)"
   ]
  },
  {
   "cell_type": "code",
   "execution_count": 28,
   "metadata": {},
   "outputs": [
    {
     "name": "stdout",
     "output_type": "stream",
     "text": [
      "('a', 'b', 'c', 1, 2, 3)\n"
     ]
    }
   ],
   "source": [
    "#Join Two Tuples\n",
    "tuple1 = (\"a\", \"b\" , \"c\")\n",
    "tuple2 = (1, 2, 3)\n",
    "\n",
    "tuple3 = tuple1 + tuple2\n",
    "print(tuple3)"
   ]
  },
  {
   "cell_type": "code",
   "execution_count": 30,
   "metadata": {},
   "outputs": [
    {
     "name": "stdout",
     "output_type": "stream",
     "text": [
      "('apple', 'banana', 'cherry', 'apple', 'banana', 'cherry')\n"
     ]
    }
   ],
   "source": [
    "# Multiply the fruits tuple by 2:\n",
    "fruits = (\"apple\", \"banana\", \"cherry\")\n",
    "mytuple = fruits * 2\n",
    "\n",
    "print(mytuple)"
   ]
  },
  {
   "cell_type": "markdown",
   "metadata": {},
   "source": [
    "# Set\n",
    "<li>Sets are used to store multiple items in a single variable.\n",
    "    <li>A set is a collection which is unordered, unchangeable*, and unindexed.\n",
    "        <li>Sets are written with curly brackets."
   ]
  },
  {
   "cell_type": "code",
   "execution_count": 34,
   "metadata": {},
   "outputs": [
    {
     "name": "stdout",
     "output_type": "stream",
     "text": [
      "{4, 'Deep learning', 'Natural Language Processing', 'Machine learning', 'Computer Vision'}\n"
     ]
    }
   ],
   "source": [
    "AI_set={'Machine learning', 'Deep learning','Natural Language Processing','Computer Vision',4}\n",
    "\n",
    "'''\n",
    "Note: Sets are unordered, so you cannot be sure in which order the items will appear.\n",
    "'''\n",
    "print(AI_set)"
   ]
  },
  {
   "cell_type": "code",
   "execution_count": 35,
   "metadata": {},
   "outputs": [
    {
     "name": "stdout",
     "output_type": "stream",
     "text": [
      "{'cherry', 'banana', 'apple'}\n"
     ]
    }
   ],
   "source": [
    "#Duplicate Value\n",
    "'''\n",
    "Duplicate values will be ignored:\n",
    "'''\n",
    "thisset = {\"apple\", \"banana\", \"cherry\", \"apple\"}\n",
    "\n",
    "print(thisset)"
   ]
  },
  {
   "cell_type": "code",
   "execution_count": 36,
   "metadata": {},
   "outputs": [
    {
     "name": "stdout",
     "output_type": "stream",
     "text": [
      "3\n"
     ]
    }
   ],
   "source": [
    "#Lenght of set\n",
    "\n",
    "print(len(thisset))"
   ]
  },
  {
   "cell_type": "code",
   "execution_count": 37,
   "metadata": {},
   "outputs": [
    {
     "data": {
      "text/plain": [
       "set"
      ]
     },
     "execution_count": 37,
     "metadata": {},
     "output_type": "execute_result"
    }
   ],
   "source": [
    "#Type()\n",
    "type(thisset)"
   ]
  },
  {
   "cell_type": "code",
   "execution_count": 44,
   "metadata": {},
   "outputs": [
    {
     "name": "stdout",
     "output_type": "stream",
     "text": [
      "4\n",
      "Deep learning\n",
      "Natural Language Processing\n",
      "Machine learning\n",
      "Computer Vision\n"
     ]
    }
   ],
   "source": [
    "# Access Items\n",
    "'''You cannot access items in a set by referring to an index or a key But you can used for loop and in keyword'''\n",
    "for x in AI_set:\n",
    "    print(x)"
   ]
  },
  {
   "cell_type": "code",
   "execution_count": 47,
   "metadata": {},
   "outputs": [
    {
     "name": "stdout",
     "output_type": "stream",
     "text": [
      "True\n"
     ]
    }
   ],
   "source": [
    "# Check if \"Deep learning\" is present in the set:\n",
    "print('Deep learning' in AI_set)"
   ]
  },
  {
   "cell_type": "code",
   "execution_count": 52,
   "metadata": {},
   "outputs": [
    {
     "name": "stdout",
     "output_type": "stream",
     "text": [
      "{'NLP', 'Deep learning', 'Natural Language Processing', 'Machine learning', 'Computer Vision', 'CV', 'DL', 'ML'}\n"
     ]
    }
   ],
   "source": [
    "# Add Sets\n",
    "AI_set_1={'Machine learning', 'Deep learning','Natural Language Processing','Computer Vision'}\n",
    "AI_set_2={'ML','DL','NLP','CV'}\n",
    "AI_set_1.update(AI_set_2)\n",
    "print(AI_set_1)"
   ]
  },
  {
   "cell_type": "code",
   "execution_count": 55,
   "metadata": {},
   "outputs": [
    {
     "data": {
      "text/plain": [
       "{'CV',\n",
       " 'Computer Vision',\n",
       " 'DL',\n",
       " 'Deep learning',\n",
       " 'NLP',\n",
       " 'Natural Language Processing'}"
      ]
     },
     "execution_count": 55,
     "metadata": {},
     "output_type": "execute_result"
    }
   ],
   "source": [
    "#Remove Item\n",
    "AI_set_1.remove('ML')\n",
    "AI_set_1"
   ]
  },
  {
   "cell_type": "code",
   "execution_count": 56,
   "metadata": {},
   "outputs": [
    {
     "name": "stdout",
     "output_type": "stream",
     "text": [
      "set()\n"
     ]
    }
   ],
   "source": [
    "#clear\n",
    "AI_set_2.clear()\n",
    "print(AI_set_2)"
   ]
  },
  {
   "cell_type": "code",
   "execution_count": 57,
   "metadata": {},
   "outputs": [],
   "source": [
    "#del\n",
    "del AI_set_2"
   ]
  },
  {
   "cell_type": "code",
   "execution_count": null,
   "metadata": {},
   "outputs": [],
   "source": [
    "#To learn more methods on a set visit this site \n",
    "#https://www.programiz.com/python-programming/methods/set"
   ]
  }
 ],
 "metadata": {
  "kernelspec": {
   "display_name": "Python 3",
   "language": "python",
   "name": "python3"
  },
  "language_info": {
   "codemirror_mode": {
    "name": "ipython",
    "version": 3
   },
   "file_extension": ".py",
   "mimetype": "text/x-python",
   "name": "python",
   "nbconvert_exporter": "python",
   "pygments_lexer": "ipython3",
   "version": "3.8.3"
  }
 },
 "nbformat": 4,
 "nbformat_minor": 4
}
